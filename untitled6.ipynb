{
  "nbformat": 4,
  "nbformat_minor": 0,
  "metadata": {
    "colab": {
      "provenance": [],
      "authorship_tag": "ABX9TyP1N6SfQn1ugRCKk73Etpsx",
      "include_colab_link": true
    },
    "kernelspec": {
      "name": "python3",
      "display_name": "Python 3"
    },
    "language_info": {
      "name": "python"
    }
  },
  "cells": [
    {
      "cell_type": "markdown",
      "metadata": {
        "id": "view-in-github",
        "colab_type": "text"
      },
      "source": [
        "<a href=\"https://colab.research.google.com/github/hanjiwon123/hanjiwon123/blob/main/untitled6.ipynb\" target=\"_parent\"><img src=\"https://colab.research.google.com/assets/colab-badge.svg\" alt=\"Open In Colab\"/></a>"
      ]
    },
    {
      "cell_type": "code",
      "execution_count": null,
      "metadata": {
        "id": "lRa3-1iyanxH"
      },
      "outputs": [],
      "source": []
    },
    {
      "cell_type": "markdown",
      "source": [
        "텍스트"
      ],
      "metadata": {
        "id": "pt0b38Ciaqp2"
      }
    },
    {
      "cell_type": "code",
      "source": [],
      "metadata": {
        "id": "HxiBUNZpat5v"
      },
      "execution_count": null,
      "outputs": []
    },
    {
      "cell_type": "markdown",
      "source": [
        "#이름은 한지원\n",
        "## 3D모델러입니다.\n",
        "## 3D프로그램으로는 Inventor, Blender를 사용하고 있습니다.\n",
        "![https://www.google.com/url?sa=i&url=https%3A%2F%2Fwww.blender.org%2Fabout%2Flogo%2F&psig=AOvVaw2D0Evxl44Sgkm9yGoSVPex&ust=1678856422869000&source=images&cd=vfe&ved=0CBEQjhxqFwoTCLDM6dfR2v0CFQAAAAAdAAAAABAD]"
      ],
      "metadata": {
        "id": "ThMhjlrfdW4Y"
      }
    }
  ]
}