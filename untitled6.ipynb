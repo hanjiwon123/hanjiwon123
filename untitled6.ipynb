{
  "nbformat": 4,
  "nbformat_minor": 0,
  "metadata": {
    "colab": {
      "provenance": [],
      "authorship_tag": "ABX9TyNNSeS6QdsIi4fFq5PruCZ4",
      "include_colab_link": true
    },
    "kernelspec": {
      "name": "python3",
      "display_name": "Python 3"
    },
    "language_info": {
      "name": "python"
    }
  },
  "cells": [
    {
      "cell_type": "markdown",
      "metadata": {
        "id": "view-in-github",
        "colab_type": "text"
      },
      "source": [
        "<a href=\"https://colab.research.google.com/github/hanjiwon123/hanjiwon123/blob/main/untitled6.ipynb\" target=\"_parent\"><img src=\"https://colab.research.google.com/assets/colab-badge.svg\" alt=\"Open In Colab\"/></a>"
      ]
    },
    {
      "cell_type": "markdown",
      "source": [
        "#3D모델러인  한지원 입니다.\n",
        "## 3D프로그램으로는 Inventor, Blender를 사용하고 있습니다.\n"
      ],
      "metadata": {
        "id": "ThMhjlrfdW4Y"
      }
    }
  ]
}