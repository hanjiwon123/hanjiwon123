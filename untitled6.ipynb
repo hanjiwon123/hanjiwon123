{
  "nbformat": 4,
  "nbformat_minor": 0,
  "metadata": {
    "colab": {
      "provenance": [],
      "authorship_tag": "ABX9TyOMW7ASiqdH2Z0rGMs3S3dC",
      "include_colab_link": true
    },
    "kernelspec": {
      "name": "python3",
      "display_name": "Python 3"
    },
    "language_info": {
      "name": "python"
    }
  },
  "cells": [
    {
      "cell_type": "markdown",
      "metadata": {
        "id": "view-in-github",
        "colab_type": "text"
      },
      "source": [
        "<a href=\"https://colab.research.google.com/github/hanjiwon123/hanjiwon123/blob/main/untitled6.ipynb\" target=\"_parent\"><img src=\"https://colab.research.google.com/assets/colab-badge.svg\" alt=\"Open In Colab\"/></a>"
      ]
    },
    {
      "cell_type": "markdown",
      "source": [
        "#대구소프트웨어마이스터고등학교\n",
        "## 3D모델러인  한지원 입니다.\n",
        "## 3D프린터운용기능사 자격증을 가지고 있습니다.\n",
        "## 3D프로그램으로는 Inventor, Blender를 사용하고 있습니다.\n",
        "\n"
      ],
      "metadata": {
        "id": "ThMhjlrfdW4Y"
      }
    }
  ]
}